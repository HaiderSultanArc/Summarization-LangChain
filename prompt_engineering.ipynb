{
 "cells": [
  {
   "cell_type": "code",
   "execution_count": 6,
   "metadata": {},
   "outputs": [],
   "source": [
    "from langchain_cohere import ChatCohere\n",
    "from langchain_core.prompts import PromptTemplate\n",
    "from langchain_core.output_parsers import StrOutputParser"
   ]
  },
  {
   "cell_type": "code",
   "execution_count": 9,
   "metadata": {},
   "outputs": [],
   "source": [
    "prompt_template = \"\"\"\n",
    "You should thoroughly analyze the diverse array of student-specific data, encompassing the subjects and academic performance across different subjects, preferred learning styles (visual, auditory, kinesthetic), extracurricular activities, and distinct personal objectives or challenges (such as preparing for a specific exam or overcoming a learning difficulty) and design a personalized learning plan for the student.\n",
    "\n",
    "You have access to following information about a student:\n",
    "Name: {name}\n",
    "Field of study: {field_of_study}\n",
    "Year of study: {year_of_study}\n",
    "List of subjects: {list_of_subjects}\n",
    "Preferred Learning Styles: {preferred_learning_styles}\n",
    "Personal Objectives\tChallenges: {personal_objectives}\n",
    "Extracurricular activities: {extracurricular_activities}\n",
    "\"\"\"\n",
    "\n",
    "prompt = PromptTemplate.from_template(prompt_template)"
   ]
  },
  {
   "cell_type": "code",
   "execution_count": 10,
   "metadata": {},
   "outputs": [],
   "source": [
    "llm = ChatCohere(\n",
    "    model=\"command-r-plus\",\n",
    "    temperature=0.0,\n",
    ")"
   ]
  },
  {
   "cell_type": "code",
   "execution_count": 11,
   "metadata": {},
   "outputs": [],
   "source": [
    "study_plan_chain = (\n",
    "    prompt\n",
    "    | llm\n",
    "    | StrOutputParser()\n",
    ")"
   ]
  },
  {
   "cell_type": "code",
   "execution_count": 12,
   "metadata": {},
   "outputs": [],
   "source": [
    "study_plan = study_plan_chain.invoke(\n",
    "    {\n",
    "        \"name\": \"John Doe\",\n",
    "        \"field_of_study\": \"Computer Science\",\n",
    "        \"year_of_study\": \"Sophomore\",\n",
    "        \"list_of_subjects\": \"Mathematics, Physics, Computer Science\",\n",
    "        \"preferred_learning_styles\": \"Visual\",\n",
    "        \"personal_objectives\": \"Preparing for a specific exam\",\n",
    "        \"extracurricular_activities\": \"Debate Club, Chess Club\"\n",
    "    }\n",
    ")"
   ]
  },
  {
   "cell_type": "code",
   "execution_count": 13,
   "metadata": {},
   "outputs": [
    {
     "name": "stdout",
     "output_type": "stream",
     "text": [
      "Based on the information provided, here is a proposed personalized learning plan for John Doe, a sophomore Computer Science student, to help him achieve his academic goals and prepare for his specific exam:\n",
      "\n",
      "## Subject-specific Strategies:\n",
      "\n",
      "### Mathematics:\n",
      "- Given John's preference for visual learning, recommend creating visual aids such as mind maps or concept maps to understand complex mathematical concepts and formulas.\n",
      "- Encourage the use of online resources or software that provide interactive and visual explanations of mathematical topics.\n",
      "- Practice with past exam questions and sample papers to improve exam technique and identify areas for improvement.\n",
      "\n",
      "### Physics:\n",
      "- Visual learning can be applied in Physics by creating diagrams, flowcharts, or animations to explain physical concepts and phenomena.\n",
      "- Suggest watching educational videos or simulations to visualize experiments and understand the practical aspects of Physics.\n",
      "- Set up hands-on experiments or demonstrations whenever possible to reinforce theoretical knowledge.\n",
      "\n",
      "### Computer Science:\n",
      "- Utilize visual programming tools and diagramming techniques to design algorithms and understand programming concepts.\n",
      "- Encourage John to create flowcharts or pseudocode before writing actual code to improve problem-solving skills.\n",
      "- Provide resources for online tutorials or MOOCs (Massive Open Online Courses) that offer visual explanations of Computer Science topics.\n",
      "\n",
      "## Study Strategies:\n",
      "\n",
      "- Create a study timetable that allocates dedicated time slots for each subject, ensuring a balanced approach.\n",
      "- Recommend using flashcards, particularly with visual cues, for memorizing key definitions, formulas, or concepts.\n",
      "- Encend incorporating the Pomodoro Technique (studying in focused, timed intervals with short breaks) to improve productivity and retention.\n",
      "- Encourage John to join or form a study group, as collaborative learning can enhance understanding and provide different perspectives.\n",
      "\n",
      "## Exam Preparation:\n",
      "\n",
      "- Help John identify the specific exam he is preparing for and provide past papers or practice tests for that exam.\n",
      "- Develop a study schedule that counts backward from the exam date, ensuring sufficient time for revision and practice.\n",
      "- Teach exam techniques, such as time management, answering strategies, and stress management, through workshops or online resources.\n",
      "- Organize one-on-one or small group tutorials to clarify concepts and address specific challenges.\n",
      "\n",
      "## Extracurricular Activities:\n",
      "\n",
      "- Encourage John to continue participating in the Debate Club and Chess Club as they foster critical thinking, communication, and strategic skills.\n",
      "- Suggest exploring computer science-related clubs or projects, such as coding clubs or robotics teams, to apply his academic knowledge practically.\n",
      "- Promote a healthy balance between academic pursuits and extracurricular activities to ensure overall well-being and a holistic development.\n",
      "\n",
      "## Learning Challenges:\n",
      "\n",
      "- Identify specific learning difficulties or challenges John may face and provide appropriate support services or resources.\n",
      "- Offer study skills workshops or one-on-one sessions to improve time management, organization, and note-taking skills.\n",
      "- Recommend assistive technology or software that can aid in learning, such as text-to-speech or note-taking applications.\n",
      "\n",
      "This personalized learning plan aims to cater to John's preferred learning style, academic goals, and specific challenges. It is important to regularly review and adjust the plan based on his progress and evolving needs.\n"
     ]
    }
   ],
   "source": [
    "print(study_plan)"
   ]
  },
  {
   "cell_type": "code",
   "execution_count": 14,
   "metadata": {},
   "outputs": [],
   "source": [
    "with open(\"study_plan.txt\", \"w\") as f:\n",
    "    f.write(study_plan)"
   ]
  }
 ],
 "metadata": {
  "language_info": {
   "name": "python"
  }
 },
 "nbformat": 4,
 "nbformat_minor": 2
}
